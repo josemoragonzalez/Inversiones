{
 "cells": [
  {
   "cell_type": "code",
   "execution_count": 56,
   "metadata": {},
   "outputs": [],
   "source": [
    "#imports\n",
    "import pandas as pd\n"
   ]
  },
  {
   "cell_type": "code",
   "execution_count": 57,
   "metadata": {},
   "outputs": [],
   "source": [
    "urls = ['http://datos.gob.cl/dataset/e3467147-487b-44f3-95b0-934404ae5e42/resource/b15a3d12-971c-41b7-b9a8-e62e8f5400c6/download/inversion-a-mayo-2020.csv',\n",
    "        'http://datos.gob.cl/dataset/e3467147-487b-44f3-95b0-934404ae5e42/resource/1a5505db-438e-49ff-8359-c2fce4e49f59/download/informe-iniciativas-de-inversiondiciembre-2019.csv',\n",
    "        'http://datos.gob.cl/dataset/e3467147-487b-44f3-95b0-934404ae5e42/resource/adbde840-d5a1-4a2f-bd0a-3fb7072ef68c/download/inversion-a-diciembre-2018.csv',\n",
    "        'http://datos.gob.cl/dataset/e3467147-487b-44f3-95b0-934404ae5e42/resource/8b1c4580-b31a-4f78-b27b-00757fa4f397/download/inversion-ano-2017actualizado.csv',\n",
    "        'http://datos.gob.cl/dataset/e3467147-487b-44f3-95b0-934404ae5e42/resource/bce98994-f487-44b0-959c-c0def8e3fd41/download/inversiones-a-diciembre-2016.csv',\n",
    "        'http://datos.gob.cl/dataset/e3467147-487b-44f3-95b0-934404ae5e42/resource/0641ce97-f7cc-4c14-919c-5ef055b02767/download/inversiones-a-diciembre-2015.csv',\n",
    "        'http://datos.gob.cl/dataset/e3467147-487b-44f3-95b0-934404ae5e42/resource/b95c93d3-706c-4af3-a33f-a29e678b90dd/download/inversiones-a-diciembre-2014.csv',\n",
    "        'http://datos.gob.cl/dataset/e3467147-487b-44f3-95b0-934404ae5e42/resource/2e4995ed-60d4-4252-b8c3-5b85f74e4f12/download/inversiones-a-diciembre-2013.csv']"
   ]
  },
  {
   "cell_type": "code",
   "execution_count": 58,
   "metadata": {},
   "outputs": [
    {
     "name": "stdout",
     "output_type": "stream",
     "text": [
      "http://datos.gob.cl/dataset/e3467147-487b-44f3-95b0-934404ae5e42/resource/b15a3d12-971c-41b7-b9a8-e62e8f5400c6/download/inversion-a-mayo-2020.csv\n",
      "http://datos.gob.cl/dataset/e3467147-487b-44f3-95b0-934404ae5e42/resource/1a5505db-438e-49ff-8359-c2fce4e49f59/download/informe-iniciativas-de-inversiondiciembre-2019.csv\n",
      "http://datos.gob.cl/dataset/e3467147-487b-44f3-95b0-934404ae5e42/resource/adbde840-d5a1-4a2f-bd0a-3fb7072ef68c/download/inversion-a-diciembre-2018.csv\n",
      "http://datos.gob.cl/dataset/e3467147-487b-44f3-95b0-934404ae5e42/resource/8b1c4580-b31a-4f78-b27b-00757fa4f397/download/inversion-ano-2017actualizado.csv\n",
      "http://datos.gob.cl/dataset/e3467147-487b-44f3-95b0-934404ae5e42/resource/bce98994-f487-44b0-959c-c0def8e3fd41/download/inversiones-a-diciembre-2016.csv\n",
      "http://datos.gob.cl/dataset/e3467147-487b-44f3-95b0-934404ae5e42/resource/0641ce97-f7cc-4c14-919c-5ef055b02767/download/inversiones-a-diciembre-2015.csv\n",
      "http://datos.gob.cl/dataset/e3467147-487b-44f3-95b0-934404ae5e42/resource/b95c93d3-706c-4af3-a33f-a29e678b90dd/download/inversiones-a-diciembre-2014.csv\n",
      "http://datos.gob.cl/dataset/e3467147-487b-44f3-95b0-934404ae5e42/resource/2e4995ed-60d4-4252-b8c3-5b85f74e4f12/download/inversiones-a-diciembre-2013.csv\n"
     ]
    },
    {
     "data": {
      "text/html": [
       "<div>\n",
       "<style scoped>\n",
       "    .dataframe tbody tr th:only-of-type {\n",
       "        vertical-align: middle;\n",
       "    }\n",
       "\n",
       "    .dataframe tbody tr th {\n",
       "        vertical-align: top;\n",
       "    }\n",
       "\n",
       "    .dataframe thead th {\n",
       "        text-align: right;\n",
       "    }\n",
       "</style>\n",
       "<table border=\"1\" class=\"dataframe\">\n",
       "  <thead>\n",
       "    <tr style=\"text-align: right;\">\n",
       "      <th></th>\n",
       "      <th>AÑO</th>\n",
       "      <th>MES</th>\n",
       "      <th>PARTIDA</th>\n",
       "      <th>NOMBRE_PARTIDA</th>\n",
       "      <th>CAPITULO</th>\n",
       "      <th>NOMBRE_CAPITULO</th>\n",
       "      <th>REGION_DESTINO</th>\n",
       "      <th>NOMBRE_REGION</th>\n",
       "      <th>PROVINCIA_DESTINO</th>\n",
       "      <th>NOMBRE_PROVINCIA</th>\n",
       "      <th>COMUNA_DESTINO</th>\n",
       "      <th>NOMBRE_COMUNA</th>\n",
       "      <th>MONEDA</th>\n",
       "      <th>CODIGO_BIP</th>\n",
       "      <th>NOMBRE_PROYECTO</th>\n",
       "      <th>MONTO_IDENTIFICADO</th>\n",
       "      <th>MONTO_DEVENGADO</th>\n",
       "    </tr>\n",
       "  </thead>\n",
       "  <tbody>\n",
       "    <tr>\n",
       "      <th>0</th>\n",
       "      <td>2020</td>\n",
       "      <td>5</td>\n",
       "      <td>3</td>\n",
       "      <td>Poder Judicial</td>\n",
       "      <td>3.0</td>\n",
       "      <td>Corporacion Administrativa del Poder Judicial</td>\n",
       "      <td>4.0</td>\n",
       "      <td>REGIÓN DE COQUIMBO</td>\n",
       "      <td>1</td>\n",
       "      <td>PROVINCIA DE ELQUI</td>\n",
       "      <td>1</td>\n",
       "      <td>La Serena</td>\n",
       "      <td>Pesos</td>\n",
       "      <td>30128193-0</td>\n",
       "      <td>REPOSICION CENTRO JUDICIAL DE LA SERENA</td>\n",
       "      <td>0</td>\n",
       "      <td>4.314.478.443</td>\n",
       "    </tr>\n",
       "    <tr>\n",
       "      <th>1</th>\n",
       "      <td>2020</td>\n",
       "      <td>5</td>\n",
       "      <td>3</td>\n",
       "      <td>Poder Judicial</td>\n",
       "      <td>3.0</td>\n",
       "      <td>Corporacion Administrativa del Poder Judicial</td>\n",
       "      <td>6.0</td>\n",
       "      <td>REGIÓN DEL LIBERTADOR GENERAL BERNARDO OHIGGINS</td>\n",
       "      <td>1</td>\n",
       "      <td>PROVINCIA DE CACHAPOAL</td>\n",
       "      <td>1</td>\n",
       "      <td>Rancagua</td>\n",
       "      <td>Pesos</td>\n",
       "      <td>30098362-0</td>\n",
       "      <td>CONSTRUCCION EDIFICIO TRIBUNALES FAMILIA, CIVI...</td>\n",
       "      <td>0</td>\n",
       "      <td>123.007.645</td>\n",
       "    </tr>\n",
       "    <tr>\n",
       "      <th>2</th>\n",
       "      <td>2020</td>\n",
       "      <td>5</td>\n",
       "      <td>3</td>\n",
       "      <td>Poder Judicial</td>\n",
       "      <td>3.0</td>\n",
       "      <td>Corporacion Administrativa del Poder Judicial</td>\n",
       "      <td>8.0</td>\n",
       "      <td>REGIÓN DEL BIO BIO</td>\n",
       "      <td>1</td>\n",
       "      <td>PROVINCIA DE CONCEPCIÓN</td>\n",
       "      <td>11</td>\n",
       "      <td>Tomé</td>\n",
       "      <td>Pesos</td>\n",
       "      <td>30107370-0</td>\n",
       "      <td>CONSTRUCCION CENTRO JUDICIAL DE TOME</td>\n",
       "      <td>0</td>\n",
       "      <td>1.787.699.641</td>\n",
       "    </tr>\n",
       "    <tr>\n",
       "      <th>3</th>\n",
       "      <td>2020</td>\n",
       "      <td>5</td>\n",
       "      <td>3</td>\n",
       "      <td>Poder Judicial</td>\n",
       "      <td>3.0</td>\n",
       "      <td>Corporacion Administrativa del Poder Judicial</td>\n",
       "      <td>9.0</td>\n",
       "      <td>REGIÓN DE LA ARAUCANIA</td>\n",
       "      <td>1</td>\n",
       "      <td>PROVINCIA DE CAUTIN</td>\n",
       "      <td>1</td>\n",
       "      <td>Temuco</td>\n",
       "      <td>Pesos</td>\n",
       "      <td>30113065-0</td>\n",
       "      <td>HABILITACION TRIBUNAL DE FAMILIA, CIVILES 1,2,...</td>\n",
       "      <td>0</td>\n",
       "      <td>2.697.246.713</td>\n",
       "    </tr>\n",
       "    <tr>\n",
       "      <th>4</th>\n",
       "      <td>2020</td>\n",
       "      <td>5</td>\n",
       "      <td>3</td>\n",
       "      <td>Poder Judicial</td>\n",
       "      <td>3.0</td>\n",
       "      <td>Corporacion Administrativa del Poder Judicial</td>\n",
       "      <td>10.0</td>\n",
       "      <td>REGIÓN DE LOS LAGOS</td>\n",
       "      <td>3</td>\n",
       "      <td>PROVINCIA DE OSORNO</td>\n",
       "      <td>1</td>\n",
       "      <td>Osorno</td>\n",
       "      <td>Pesos</td>\n",
       "      <td>30308732-0</td>\n",
       "      <td>REPOSICION TRIBUNAL GARANTIA Y TOP DE OSORNO</td>\n",
       "      <td>0</td>\n",
       "      <td>90.722.107</td>\n",
       "    </tr>\n",
       "  </tbody>\n",
       "</table>\n",
       "</div>"
      ],
      "text/plain": [
       "    AÑO MES PARTIDA  NOMBRE_PARTIDA  CAPITULO  \\\n",
       "0  2020   5       3  Poder Judicial       3.0   \n",
       "1  2020   5       3  Poder Judicial       3.0   \n",
       "2  2020   5       3  Poder Judicial       3.0   \n",
       "3  2020   5       3  Poder Judicial       3.0   \n",
       "4  2020   5       3  Poder Judicial       3.0   \n",
       "\n",
       "                                 NOMBRE_CAPITULO  REGION_DESTINO  \\\n",
       "0  Corporacion Administrativa del Poder Judicial             4.0   \n",
       "1  Corporacion Administrativa del Poder Judicial             6.0   \n",
       "2  Corporacion Administrativa del Poder Judicial             8.0   \n",
       "3  Corporacion Administrativa del Poder Judicial             9.0   \n",
       "4  Corporacion Administrativa del Poder Judicial            10.0   \n",
       "\n",
       "                                     NOMBRE_REGION PROVINCIA_DESTINO  \\\n",
       "0                               REGIÓN DE COQUIMBO                 1   \n",
       "1  REGIÓN DEL LIBERTADOR GENERAL BERNARDO OHIGGINS                 1   \n",
       "2                               REGIÓN DEL BIO BIO                 1   \n",
       "3                           REGIÓN DE LA ARAUCANIA                 1   \n",
       "4                              REGIÓN DE LOS LAGOS                 3   \n",
       "\n",
       "          NOMBRE_PROVINCIA COMUNA_DESTINO NOMBRE_COMUNA MONEDA  CODIGO_BIP  \\\n",
       "0       PROVINCIA DE ELQUI              1     La Serena  Pesos  30128193-0   \n",
       "1   PROVINCIA DE CACHAPOAL              1      Rancagua  Pesos  30098362-0   \n",
       "2  PROVINCIA DE CONCEPCIÓN             11          Tomé  Pesos  30107370-0   \n",
       "3      PROVINCIA DE CAUTIN              1        Temuco  Pesos  30113065-0   \n",
       "4      PROVINCIA DE OSORNO              1        Osorno  Pesos  30308732-0   \n",
       "\n",
       "                                     NOMBRE_PROYECTO MONTO_IDENTIFICADO  \\\n",
       "0            REPOSICION CENTRO JUDICIAL DE LA SERENA                  0   \n",
       "1  CONSTRUCCION EDIFICIO TRIBUNALES FAMILIA, CIVI...                  0   \n",
       "2               CONSTRUCCION CENTRO JUDICIAL DE TOME                  0   \n",
       "3  HABILITACION TRIBUNAL DE FAMILIA, CIVILES 1,2,...                  0   \n",
       "4       REPOSICION TRIBUNAL GARANTIA Y TOP DE OSORNO                  0   \n",
       "\n",
       "  MONTO_DEVENGADO  \n",
       "0   4.314.478.443  \n",
       "1     123.007.645  \n",
       "2   1.787.699.641  \n",
       "3   2.697.246.713  \n",
       "4      90.722.107  "
      ]
     },
     "metadata": {},
     "output_type": "display_data"
    }
   ],
   "source": [
    "df_inv = pd.DataFrame(columns= ['AÑO','MES','PARTIDA', 'NOMBRE_PARTIDA','CAPITULO', 'NOMBRE_CAPITULO', 'REGION_DESTINO', 'NOMBRE_REGION', 'PROVINCIA_DESTINO', 'NOMBRE_PROVINCIA', \n",
    "                                'COMUNA_DESTINO', 'NOMBRE_COMUNA', 'MONEDA', 'CODIGO_BIP', 'NOMBRE_PROYECTO', 'MONTO_IDENTIFICADO', 'MONTO_DEVENGADO'])\n",
    "\n",
    "for file in urls:\n",
    "    df = pd.read_csv(file, encoding='ISO-8859-1', sep=';')\n",
    "    df.columns = df_inv.columns\n",
    "    df_inv = df_inv.append(df)\n",
    "    print(file)\n",
    "\n",
    "display(df_inv.head())"
   ]
  },
  {
   "cell_type": "code",
   "execution_count": null,
   "metadata": {},
   "outputs": [],
   "source": [
    "df_inv['MONTO_IDENTIFICADO'] = df_inv['MONTO_IDENTIFICADO'].str.replace('.', '').fillna(0).astype(float)\n",
    "df_inv['MONTO_DEVENGADO'] = df_inv['MONTO_DEVENGADO'].str.replace('.', '').fillna(0).astype(float)"
   ]
  },
  {
   "cell_type": "code",
   "execution_count": 78,
   "metadata": {},
   "outputs": [
    {
     "data": {
      "text/plain": [
       "<matplotlib.axes._subplots.AxesSubplot at 0x7fc3625f4810>"
      ]
     },
     "execution_count": 78,
     "metadata": {},
     "output_type": "execute_result"
    },
    {
     "data": {
      "image/png": "[encoded data removed]",
      "text/plain": [
       "<Figure size 432x288 with 1 Axes>"
      ]
     },
     "metadata": {
      "needs_background": "light"
     },
     "output_type": "display_data"
    }
   ],
   "source": [
    "df_inv=df_inv[df_inv['AÑO']!='Total general']\n",
    "df_inv.groupby(by=['AÑO'])['MONTO_DEVENGADO'].sum().plot(kind='line')"
   ]
  },
  {
   "cell_type": "code",
   "execution_count": 96,
   "metadata": {},
   "outputs": [
    {
     "data": {
      "text/plain": [
       "<seaborn.axisgrid.FacetGrid at 0x7fc352689f10>"
      ]
     },
     "execution_count": 96,
     "metadata": {},
     "output_type": "execute_result"
    },
    {
     "data": {
      "image/png": "[encoded data removed]",
      "text/plain": [
       "<Figure size 6840x360 with 19 Axes>"
      ]
     },
     "metadata": {
      "needs_background": "light"
     },
     "output_type": "display_data"
    }
   ],
   "source": [
    "import matplotlib.pyplot as plt\n",
    "import seaborn as sns\n",
    "sns.catplot(x=\"AÑO\", y=\"MONTO_DEVENGADO\", col=\"REGION_DESTINO\",\n",
    "                data=df_inv, kind=\"bar\", estimator=sum, ci=False)"
   ]
  },
  {
   "cell_type": "code",
   "execution_count": 112,
   "metadata": {},
   "outputs": [
    {
     "data": {
      "text/plain": [
       "0        2020\n",
       "1        2020\n",
       "2        2020\n",
       "3        2020\n",
       "4        2020\n",
       "         ... \n",
       "13196    2013\n",
       "13197    2013\n",
       "13198    2013\n",
       "13199    2013\n",
       "13200    2013\n",
       "Name: AÑO, Length: 74579, dtype: int64"
      ]
     },
     "execution_count": 112,
     "metadata": {},
     "output_type": "execute_result"
    }
   ],
   "source": [
    "round(df_inv['AÑO'].astype(float)).dropna().astype(int)"
   ]
  }
 ],
 "metadata": {
  "kernelspec": {
   "display_name": "Python 3",
   "language": "python",
   "name": "python3"
  },
  "language_info": {
   "codemirror_mode": {
    "name": "ipython",
    "version": 3
   },
   "file_extension": ".py",
   "mimetype": "text/x-python",
   "name": "python",
   "nbconvert_exporter": "python",
   "pygments_lexer": "ipython3",
   "version": "3.7.7"
  }
 },
 "nbformat": 4,
 "nbformat_minor": 4
}
